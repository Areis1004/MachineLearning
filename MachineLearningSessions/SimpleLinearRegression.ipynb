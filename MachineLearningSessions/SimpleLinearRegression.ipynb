{
 "cells": [
  {
   "cell_type": "code",
   "execution_count": 48,
   "metadata": {},
   "outputs": [],
   "source": [
    "import numpy as np\n",
    "import matplotlib.pyplot as plt\n",
    "import pandas as pd"
   ]
  },
  {
   "cell_type": "code",
   "execution_count": 49,
   "metadata": {},
   "outputs": [
    {
     "name": "stdout",
     "output_type": "stream",
     "text": [
      "    YearsExperience  Salary\n",
      "0                 1       3\n",
      "1                 3       7\n",
      "2                 2       5\n",
      "3                 5      11\n",
      "4                 4       9\n",
      "5                 6      13\n",
      "6                 7      15\n",
      "7                 8      17\n",
      "8                 9      19\n",
      "9                10      21\n",
      "10               11      23\n",
      "11               23      47\n",
      "12               12      25\n",
      "13               34      69\n",
      "14               23      47\n",
      "15               45      91\n",
      "16               67     135\n",
      "17               89     179\n",
      "18                5      11\n",
      "19               34      69\n",
      "20               23      47\n",
      "21               32      65\n",
      "22               34      69\n",
      "23               56     113\n",
      "24               78     157\n",
      "25               90     181\n"
     ]
    }
   ],
   "source": [
    "dataset = pd.read_csv(\"./data/Salary_Data_predictable.csv\")\n",
    "print(dataset)"
   ]
  },
  {
   "cell_type": "code",
   "execution_count": 50,
   "metadata": {},
   "outputs": [
    {
     "name": "stdout",
     "output_type": "stream",
     "text": [
      "[ 1  3  2  5  4  6  7  8  9 10 11 23 12 34 23 45 67 89  5 34 23 32 34 56\n",
      " 78 90]\n"
     ]
    }
   ],
   "source": [
    "X = dataset.iloc[:, 0].values\n",
    "print(X)"
   ]
  },
  {
   "cell_type": "code",
   "execution_count": 51,
   "metadata": {},
   "outputs": [
    {
     "name": "stdout",
     "output_type": "stream",
     "text": [
      "[  3   7   5  11   9  13  15  17  19  21  23  47  25  69  47  91 135 179\n",
      "  11  69  47  65  69 113 157 181]\n"
     ]
    }
   ],
   "source": [
    "y = dataset.iloc[:, 1].values\n",
    "print(y)"
   ]
  },
  {
   "cell_type": "code",
   "execution_count": 52,
   "metadata": {},
   "outputs": [
    {
     "name": "stdout",
     "output_type": "stream",
     "text": [
      "[34 34  5 34 67  3 11 90 78  9  7  4 10  8 56  5  1 32 45 12]\n"
     ]
    }
   ],
   "source": [
    "from sklearn.model_selection import train_test_split\n",
    "X_train, X_test, y_train, y_test = train_test_split(X, y, test_size=0.2, random_state=0)\n",
    "print(X_train)"
   ]
  },
  {
   "cell_type": "code",
   "execution_count": 53,
   "metadata": {},
   "outputs": [],
   "source": [
    "from sklearn.linear_model import LinearRegression\n",
    "regressor = LinearRegression()\n"
   ]
  },
  {
   "cell_type": "code",
   "execution_count": 54,
   "metadata": {
    "scrolled": true
   },
   "outputs": [
    {
     "name": "stdout",
     "output_type": "stream",
     "text": [
      "[[34]\n",
      " [34]\n",
      " [ 5]\n",
      " [34]\n",
      " [67]\n",
      " [ 3]\n",
      " [11]\n",
      " [90]\n",
      " [78]\n",
      " [ 9]\n",
      " [ 7]\n",
      " [ 4]\n",
      " [10]\n",
      " [ 8]\n",
      " [56]\n",
      " [ 5]\n",
      " [ 1]\n",
      " [32]\n",
      " [45]\n",
      " [12]]\n"
     ]
    },
    {
     "data": {
      "text/plain": [
       "LinearRegression(copy_X=True, fit_intercept=True, n_jobs=None, normalize=False)"
      ]
     },
     "execution_count": 54,
     "metadata": {},
     "output_type": "execute_result"
    }
   ],
   "source": [
    "X_train=X_train.reshape(-1,1)\n",
    "print(X_train)\n",
    "regressor.fit(X_train, y_train)\n"
   ]
  },
  {
   "cell_type": "code",
   "execution_count": 55,
   "metadata": {
    "scrolled": true
   },
   "outputs": [
    {
     "name": "stdout",
     "output_type": "stream",
     "text": [
      "[ 69.  69.  11.  69. 135.   7.  23. 181. 157.  19.  15.   9.  21.  17.\n",
      " 113.  11.   3.  65.  91.  25.]\n"
     ]
    }
   ],
   "source": [
    "y_pred = regressor.predict(X_train)\n",
    "print(y_pred)"
   ]
  },
  {
   "cell_type": "code",
   "execution_count": 56,
   "metadata": {
    "scrolled": true
   },
   "outputs": [
    {
     "data": {
      "image/png": "[encoded data removed]",
      "text/plain": [
       "<Figure size 432x288 with 1 Axes>"
      ]
     },
     "metadata": {
      "needs_background": "light"
     },
     "output_type": "display_data"
    }
   ],
   "source": [
    "plt.scatter(X_train, y_train, color = \"red\")\n",
    "plt.scatter(X_test, y_test, color = \"blue\")\n",
    "plt.plot(X_train, y_pred, color=\"green\")\n",
    "plt.title(\"Sample\")\n",
    "plt.xlabel(\"X\")\n",
    "plt.ylabel(\"Y\")\n",
    "plt.show()"
   ]
  },
  {
   "cell_type": "code",
   "execution_count": 57,
   "metadata": {},
   "outputs": [
    {
     "name": "stdout",
     "output_type": "stream",
     "text": [
      "[10 15 20 40 60]\n"
     ]
    }
   ],
   "source": [
    "dataset_pred = pd.read_csv(\"Salary_prediction.csv\")\n",
    "y_to_pred = dataset_pred.iloc[:, 0].values\n",
    "print(y_to_pred)"
   ]
  },
  {
   "cell_type": "code",
   "execution_count": 58,
   "metadata": {},
   "outputs": [
    {
     "name": "stdout",
     "output_type": "stream",
     "text": [
      "[ 21.  31.  41.  81. 121.]\n"
     ]
    }
   ],
   "source": [
    "y_pred_data = regressor.predict(y_to_pred.reshape(-1,1))\n",
    "print(y_pred_data)"
   ]
  },
  {
   "cell_type": "code",
   "execution_count": 60,
   "metadata": {},
   "outputs": [
    {
     "data": {
      "image/png": "[encoded data removed]",
      "text/plain": [
       "<Figure size 432x288 with 1 Axes>"
      ]
     },
     "metadata": {
      "needs_background": "light"
     },
     "output_type": "display_data"
    }
   ],
   "source": [
    "plt.scatter(X_train, y_train, color = \"red\")\n",
    "plt.scatter(y_to_pred, y_pred_data, color = \"blue\")\n",
    "plt.plot(X_train, y_pred, color=\"green\")\n",
    "plt.title(\"Sample\")\n",
    "plt.xlabel(\"X\")\n",
    "plt.ylabel(\"Y\")\n",
    "plt.show()"
   ]
  },
  {
   "cell_type": "code",
   "execution_count": null,
   "metadata": {},
   "outputs": [],
   "source": []
  }
 ],
 "metadata": {
  "kernelspec": {
   "display_name": "Python 3",
   "language": "python",
   "name": "python3"
  },
  "language_info": {
   "codemirror_mode": {
    "name": "ipython",
    "version": 3
   },
   "file_extension": ".py",
   "mimetype": "text/x-python",
   "name": "python",
   "nbconvert_exporter": "python",
   "pygments_lexer": "ipython3",
   "version": "3.7.6"
  }
 },
 "nbformat": 4,
 "nbformat_minor": 4
}
